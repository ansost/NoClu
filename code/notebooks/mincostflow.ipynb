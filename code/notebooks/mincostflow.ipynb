{
 "cells": [
  {
   "cell_type": "markdown",
   "metadata": {},
   "source": [
    "# Implementation of the min cost flow algorithm\n",
    "This notebook contains the implementation of the min cost flow algorithm using the NetworkX library, which will be used for the cluster evaluation later on. "
   ]
  },
  {
   "cell_type": "markdown",
   "metadata": {},
   "source": [
    "min_cost_flow(G, demand='demand', capacity='capacity', weight='weight') \n",
    "\n",
    "**G** - NetworkX graph\n",
    "\n",
    "DiGraph on which a minimum cost flow satisfying all demands is to be found.\n",
    "\n",
    "\n",
    "**demand** - string\n",
    "\n",
    "Nodes of the graph G are expected to have an attribute demand that indicates how much flow a node wants to send (negative demand) or receive (positive demand). Note that the sum of the demands should be 0 otherwise the problem in not feasible. If this attribute is not present, a node is considered to have 0 demand. Default value: ‘demand’.\n",
    "\n",
    "\n",
    "**capacity** - string\n",
    "\n",
    "Edges of the graph G are expected to have an attribute capacity that indicates how much flow the edge can support. If this attribute is not present, the edge is considered to have infinite capacity. Default value: ‘capacity’.\n",
    "\n",
    "\n",
    "**weight** - string \n",
    "\n",
    "Edges of the graph G are expected to have an attribute weight that indicates the cost incurred by sending one unit of flow on that edge. If not present, the weight is considered to be 0. Default value: ‘weight’."
   ]
  },
  {
   "cell_type": "markdown",
   "metadata": {},
   "source": [
    "## Example implementation "
   ]
  },
  {
   "cell_type": "code",
   "execution_count": null,
   "metadata": {},
   "outputs": [],
   "source": [
    "# Example\n",
    "import networkx as nx\n",
    "import matplotlib.pyplot as plt\n",
    "\n",
    "# Creating Directed graph \n",
    "G = nx.DiGraph() \n",
    "\n",
    "# Adding nodes\n",
    "# Adds a node called \"a\"/\"d\" with a demand of 5, meaning the node needs to receive/send 5 units of flow (positive = receive, negative = send) \n",
    "G.add_node(\"a\", demand=-5) # wants to send 5units of flow \n",
    "G.add_node(\"d\", demand=5) # wants to receive 5 units of flow \n",
    "\n",
    "# Adding edges (and nodes)\n",
    "# Adds an edge from node 1 to node 2 with the cost of sending flow through that edge (weight) and the maximum flow the edge can support (capacity))\n",
    "G.add_edge(\"a\", \"b\", weight=3, capacity=4) # Adds a  \n",
    "G.add_edge(\"a\", \"c\", weight=6, capacity=10)\n",
    "G.add_edge(\"b\", \"d\", weight=1, capacity=9)\n",
    "G.add_edge(\"c\", \"d\", weight=2, capacity=5)\n",
    "\n",
    "# Min cost flow computation functions\n",
    "# Either separately compute the flow dict and the cost of the flow:\n",
    "flowDict = nx.min_cost_flow(G) # Dictionary of dictionaries keyed by nodes such that flowDict[u][v] is the flow edge (u, v).\n",
    "nx.cost_of_flow(G, flowDict, weight='weight')\n",
    "# Or compute both at the same time:\n",
    "nx.min_cost_flow_cost(G, demand='demand', capacity='capacity', weight='weight')\n",
    "\n",
    "# Visualizing the FlowDict\n",
    "# Turn into DiGraph again: \n",
    "f = nx.DiGraph(flowDict)\n",
    "#pos=nx.get_node_attributes(f,'pos')\n",
    "#labels = nx.get_edge_attributes(f,'weight')\n",
    "labels = nx.get_edge_attributes(f,'weight')\n",
    "\n",
    "#nx.draw(f, with_labels = True)\n"
   ]
  },
  {
   "cell_type": "code",
   "execution_count": null,
   "metadata": {},
   "outputs": [],
   "source": [
    "flowDict"
   ]
  }
 ],
 "metadata": {
  "kernelspec": {
   "display_name": "nocluV",
   "language": "python",
   "name": "python3"
  },
  "language_info": {
   "codemirror_mode": {
    "name": "ipython",
    "version": 3
   },
   "file_extension": ".py",
   "mimetype": "text/x-python",
   "name": "python",
   "nbconvert_exporter": "python",
   "pygments_lexer": "ipython3",
   "version": "3.11.4"
  }
 },
 "nbformat": 4,
 "nbformat_minor": 2
}
