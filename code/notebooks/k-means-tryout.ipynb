{
 "cells": [
  {
   "cell_type": "markdown",
   "metadata": {},
   "source": [
    "# Letzter Stand\n",
    "- Meeting mit Informatikperson: 7. September 11:00\n",
    "- wrote script to filter out syncretic forms. Als script in `preprocessing.py` und hier im notebook. \n",
    "\n",
    "Todo:\n",
    "- Fact-check output of preprocessing script. \n",
    "- Check the re-shaping in der k means funktion. \n",
    "    - Warum muss das gereshaped werden? Warum muss der Input 2d sein?\n",
    "    - ist der Input falsch wenn ich den noch umformen muss, oder hat anastasia das auch gemacht?\n",
    "- Visualisierungs Funktion für die cluster die entstehen\n",
    "- Das ganze in eine script"
   ]
  },
  {
   "cell_type": "code",
   "execution_count": 1,
   "metadata": {},
   "outputs": [],
   "source": [
    "from sklearn.cluster import KMeans\n",
    "import fasttext as ft\n",
    "import numpy as np"
   ]
  },
  {
   "cell_type": "markdown",
   "metadata": {},
   "source": [
    "- die scikit learn documentation empfiehlt PCA vor k means laufen zu lassen und wird machen das Gegenteil??\n",
    "- k means sucht nach cluster with equal variance, ist das bei unseren clulstern gegeben?"
   ]
  },
  {
   "cell_type": "code",
   "execution_count": 2,
   "metadata": {},
   "outputs": [
    {
     "name": "stderr",
     "output_type": "stream",
     "text": [
      "Warning : `load_model` does not return WordVectorModel or SupervisedModel any more, but a `FastText` object which is very similar.\n"
     ]
    }
   ],
   "source": [
    "# Load data.\n",
    "forms_full = [\n",
    "    {\"nomn\"},\n",
    "    {\"gent\"},\n",
    "    {\"datv\"},\n",
    "    {\"accs\"},\n",
    "    {\"ablt\"},\n",
    "    {\"loct\"},\n",
    "    {\"gen2\"},\n",
    "    {\"plur\", \"nomn\"},\n",
    "    {\"plur\", \"gent\"},\n",
    "    {\"plur\", \"datv\"},\n",
    "    {\"plur\", \"accs\"},\n",
    "    {\"plur\", \"ablt\"},\n",
    "    {\"plur\", \"loct\"},\n",
    "    {\"plur\", \"gen2\"},\n",
    "]\n",
    "\n",
    "# For each noun: Lemma, tags (gender, animacy), something, all 14 cases (see above).\n",
    "list_of_all_forms = np.loadtxt(\n",
    "    \"../../data/list_of_noun_forms_full.csv\", dtype=object, delimiter=\",\"\n",
    ")\n",
    "\n",
    "# Binary coding of synchretisms. A form at index i,j is not syncretic if matrix_of_syncr[i][j]==2**j.\n",
    "matrix_of_syncr = np.loadtxt(\n",
    "    \"../../data/matrix_of_syncr.csv\", dtype=float, delimiter=\",\"\n",
    ").astype(int)\n",
    "\n",
    "# List of cases without lemma and tags.\n",
    "list_forms = list_of_all_forms[:, 4:]\n",
    "\n",
    "# Load fasttext model.\n",
    "ft = ft.load_model(\"../../data/final-model.bin\")\n",
    "\n",
    "# Get all the vectors in the array.\n",
    "# Gets the vector for all word lemmas from list_forms.\n",
    "vectors_all_nouns = [[ft.get_word_vector(x) for x in line] for line in list_forms]"
   ]
  },
  {
   "cell_type": "code",
   "execution_count": 3,
   "metadata": {},
   "outputs": [
    {
     "name": "stdout",
     "output_type": "stream",
     "text": [
      "961618 11515\n"
     ]
    }
   ],
   "source": [
    "# Get all vectors that are non synchretic from fasttext.\n",
    "# INCORRECT...\n",
    "nonsynchr_nounvectors = []\n",
    "for index, forms in enumerate(list_forms):\n",
    "    for form in forms:\n",
    "        for j in range(0, 14):\n",
    "            if matrix_of_syncr[index][j] == 2**j:  # Check if word is synchretic.\n",
    "                nonsynchr_nounvectors.append(ft.get_word_vector(form))\n",
    "print(len(nonsynchr_nounvectors), len(list_forms))  # 840 11515"
   ]
  },
  {
   "cell_type": "code",
   "execution_count": 54,
   "metadata": {},
   "outputs": [],
   "source": [
    "np.save(\"../../data/nonsynchr_casevectors.npy\", nonsynchr_casevectors)"
   ]
  },
  {
   "cell_type": "markdown",
   "metadata": {},
   "source": [
    "# Removing synchronous forms"
   ]
  },
  {
   "cell_type": "markdown",
   "metadata": {},
   "source": [
    "`list_forms` and `matrix of synchr.` have the same length so presumably the same structure.\n",
    "> 11515 lines and 14 dims per line \n",
    "\n",
    "```python\n",
    "matrix_of_syncr[0]\n",
    "array([   1,   74,    4,   74,   16,   32,   74,  128, 9472,  512, 9472,\n",
    "       2048, 4096, 9472])\n",
    "```\n",
    "\n",
    "```python\n",
    "list_forms[0]\n",
    "array(['человек', 'человека', 'человеку', 'человека', 'человеком',\n",
    "       'человеке', 'человека', 'люди', 'людей', 'людям', 'людей',\n",
    "       'людьми', 'людях', 'людей'], dtype=object)\n",
    "```"
   ]
  },
  {
   "cell_type": "code",
   "execution_count": 49,
   "metadata": {},
   "outputs": [],
   "source": [
    "# Get case vectors for all non-synchretic cases.\n",
    "nonsynchr_casevectors = []\n",
    "for form in range(0, len(list_forms)):\n",
    "    for case in range(0, 14):\n",
    "        if (\n",
    "            matrix_of_syncr[form][case] == 2**case\n",
    "        ):  # Get word vector if case is not synchretic.\n",
    "            vector = ft.get_word_vector(list_forms[form][case])\n",
    "            nonsynchr_casevectors.append(vector)\n",
    "print(len(nonsynchr_casevectors), len(list_forms))  # 68687 11515"
   ]
  },
  {
   "cell_type": "markdown",
   "metadata": {},
   "source": [
    "### Official tries"
   ]
  },
  {
   "cell_type": "code",
   "execution_count": 14,
   "metadata": {},
   "outputs": [],
   "source": [
    "def cluster_kmeans(n_clusters, input):\n",
    "    \"\"\"Cluster the input into n_clusters using kmeans.\n",
    "\n",
    "    Parameters\n",
    "    ----------\n",
    "    n_clusters: int\n",
    "        Number of clusters to cluster the input into.\n",
    "    input: array-like\n",
    "        Input to cluster.\n",
    "\n",
    "    Returns\n",
    "    -------\n",
    "    labels: array-like\n",
    "        Cluster labels for each element in the input.\n",
    "    centers: array-like\n",
    "        Cluster centers.\n",
    "    \"\"\"\n",
    "    x = np.ascontiguousarray(\n",
    "        input\n",
    "    )  # Kmeans function copies input if input is not c-contigous.\n",
    "    nsamples, nx, ny = x.shape\n",
    "    x = x.reshape((nsamples, nx * ny))\n",
    "\n",
    "    kmeans = KMeans(n_clusters=n_clusters, random_state=0, n_init=\"auto\").fit(x)\n",
    "    return kmeans.labels_, kmeans.cluster_centers_"
   ]
  },
  {
   "cell_type": "code",
   "execution_count": null,
   "metadata": {},
   "outputs": [],
   "source": [
    "labels, centers = cluster_kmeans(\n",
    "    8, vectors_all_nouns\n",
    ")  # Whats a good number of clusters?\n",
    "labels, centers"
   ]
  }
 ],
 "metadata": {
  "kernelspec": {
   "display_name": "nocluV",
   "language": "python",
   "name": "python3"
  },
  "language_info": {
   "codemirror_mode": {
    "name": "ipython",
    "version": 3
   },
   "file_extension": ".py",
   "mimetype": "text/x-python",
   "name": "python",
   "nbconvert_exporter": "python",
   "pygments_lexer": "ipython3",
   "version": "3.8.10"
  },
  "orig_nbformat": 4
 },
 "nbformat": 4,
 "nbformat_minor": 2
}
