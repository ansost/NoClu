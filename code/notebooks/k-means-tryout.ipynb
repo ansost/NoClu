{
 "cells": [
  {
   "cell_type": "markdown",
   "metadata": {},
   "source": [
    "# Letzter Stand\n",
    "- added funktion für k-means\n",
    "- nimmt unlabelled data als Input, daher hab ich erstmal die vectors_all_nouns reingeschmissen, sounds correct\n",
    "\n",
    "Todo:\n",
    "- Gucken ob das wirklich der richtige Input ist: \n",
    "    - Check in original cluster notebook was da genommen wird\n",
    "    - Muss ich die synkretischen Formen noch rausfiltern, oder sind die eh nicht im trainierten Modell enthalten? \n",
    "- Check the re-shaping in der k means funktion. \n",
    "    - Warum muss das gereshaped werden? Warum muss der Input 2d sein?\n",
    "    - ist der Input falsch wenn ich den noch umformen muss, oder hat anastasia das auch gemacht?\n",
    "- Visualisierungs Funktion für die cluster die entstehen\n",
    "- das ganze in eine script"
   ]
  },
  {
   "cell_type": "code",
   "execution_count": 9,
   "metadata": {},
   "outputs": [],
   "source": [
    "from sklearn.cluster import KMeans\n",
    "import fasttext as ft\n",
    "import numpy as np"
   ]
  },
  {
   "cell_type": "markdown",
   "metadata": {},
   "source": [
    "- `list_forms` wird zwar immer an der Argumenstelle von list of lemmas benutzt, in der Beschreibung stet aber dass das die Liste ohen Lemmas ist??\n",
    "- die scikit learn documentation empfiehlt PCA vor k means laufen zu lassen und wird machen das Gegenteil??\n",
    "- k means sucht nach cluster with equal variance, ist das bei unseren clulstern gegeben?"
   ]
  },
  {
   "cell_type": "code",
   "execution_count": 10,
   "metadata": {},
   "outputs": [
    {
     "name": "stderr",
     "output_type": "stream",
     "text": [
      "Warning : `load_model` does not return WordVectorModel or SupervisedModel any more, but a `FastText` object which is very similar.\n"
     ]
    }
   ],
   "source": [
    "# Load fasttext model\n",
    "ft = ft.load_model(\"../../data/final-model.bin\")\n",
    "\n",
    "# Get all the vectors in the array.\n",
    "# Gets the vector for all word lemmas from list_forms.\n",
    "vectors_all_nouns = [\n",
    "    [ft.get_word_vector(x) for x in line] for line in list_forms\n",
    "]  "
   ]
  },
  {
   "cell_type": "markdown",
   "metadata": {},
   "source": [
    "### Official tries"
   ]
  },
  {
   "cell_type": "code",
   "execution_count": 28,
   "metadata": {},
   "outputs": [],
   "source": [
    "def cluster_kmeans(n_clusters, input):\n",
    "    \"\"\"Cluster the input into n_clusters using kmeans.\n",
    "    \n",
    "    Parameters\n",
    "    ----------\n",
    "    n_clusters: int\n",
    "        Number of clusters to cluster the input into.\n",
    "    input: array-like\n",
    "        Input to cluster.\n",
    "        \n",
    "    Returns\n",
    "    -------\n",
    "    labels: array-like\n",
    "        Cluster labels for each element in the input.\n",
    "    centers: array-like\n",
    "        Cluster centers.\n",
    "    \"\"\"\n",
    "    x = np.ascontiguousarray(input) # Kmeans function copies input if input is not c-contigous.\n",
    "    nsamples, nx, ny = x.shape\n",
    "    x = x.reshape((nsamples,nx*ny))\n",
    "\n",
    "    kmeans = KMeans(n_clusters=n_clusters, random_state=0, n_init=\"auto\").fit(x)\n",
    "    return kmeans.labels_, kmeans.cluster_centers_"
   ]
  },
  {
   "cell_type": "code",
   "execution_count": 29,
   "metadata": {},
   "outputs": [],
   "source": [
    "labels, centers = cluster_kmeans(2, vectors_all_nouns)#\n",
    "labels, centers"
   ]
  }
 ],
 "metadata": {
  "kernelspec": {
   "display_name": "nocluV",
   "language": "python",
   "name": "python3"
  },
  "language_info": {
   "codemirror_mode": {
    "name": "ipython",
    "version": 3
   },
   "file_extension": ".py",
   "mimetype": "text/x-python",
   "name": "python",
   "nbconvert_exporter": "python",
   "pygments_lexer": "ipython3",
   "version": "3.8.10"
  },
  "orig_nbformat": 4
 },
 "nbformat": 4,
 "nbformat_minor": 2
}
