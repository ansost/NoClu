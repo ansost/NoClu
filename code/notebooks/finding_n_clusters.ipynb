{
 "cells": [
  {
   "cell_type": "markdown",
   "metadata": {},
   "source": [
    "# Find optimal number of clusters/eplison for k means and DBSCAN\n",
    "For both algorithms, the elbow method is used. For `k-means` the optimal number of clusters is the value after which the distortion/inertia start decreasing in a linear way. For `DBSCAN`, the optimal value of epsilon is the distance value at which the rate of change is the highest. The optimal value of epsilon/n clusters is the value at the elbow of the curve, however where this elbow is can be difficult to determine. \n",
    "\n",
    "The first code block loads all datasets used for to generate the results of this project. All output plots are saved in `figures/`.\n",
    "\n",
    "To look at the plots yourself you need to exchange the `data` parameter to the dataset you want to look at. \n",
    "The datasets are: \n",
    "- PCA with 215 components (95% explained variance) followed by t-SNE with 2 dimensions (`d_215_2`)\n",
    "- PCA with 215 components (95% explained variance) followed by t-SNE with 3 dimensions (`d_215_3`)\n",
    "- PCA with 277 components (99% explained variance) followed by t-SNE with 2 dimensions (`d_277_2`)\n",
    "- PCA with 277 components (99% explained variance) followed by t-SNE with 3 dimensions (`d_277_3`)\n",
    "\n",
    "In order to save the figures, uncomment the `plt.savefig()` lines."
   ]
  },
  {
   "cell_type": "code",
   "execution_count": null,
   "metadata": {},
   "outputs": [],
   "source": [
    "from sklearn.cluster import KMeans\n",
    "import numpy as np\n",
    "from matplotlib import pyplot as plt\n",
    "import seaborn as sns\n",
    "\n",
    "sns.set()\n",
    "\n",
    "d_215_2 = np.load(\"../../data/dim_reduced_input/nonsynchr_pcatsne_215_2.npy\")\n",
    "d_215_3 = np.load(\"../../data/dim_reduced_input/nonsynchr_pcatsne_215_3.npy\")\n",
    "d_277_2 = np.load(\"../../data/dim_reduced_input/nonsynchr_pcatsne_277_2.npy\")\n",
    "d_277_3 = np.load(\"../../data/dim_reduced_input/nonsynchr_pcatsne_277_3.npy\")"
   ]
  },
  {
   "cell_type": "markdown",
   "metadata": {},
   "source": [
    "# Kmeans"
   ]
  },
  {
   "cell_type": "code",
   "execution_count": null,
   "metadata": {},
   "outputs": [],
   "source": [
    "Sum_of_squared_distances = []\n",
    "clusters = range(1, 30)\n",
    "data = d_277_2\n",
    "path = \"../../figures/SSD_kmeans_215_3.png\"\n",
    "for n_clusters in clusters:\n",
    "    km = KMeans(n_clusters=n_clusters, random_state=0, n_init=\"auto\")\n",
    "    km = km.fit(data)\n",
    "    Sum_of_squared_distances.append(km.inertia_)\n",
    "plt.plot(clusters, Sum_of_squared_distances)\n",
    "plt.scatter(clusters, Sum_of_squared_distances)\n",
    "plt.xlabel(\"Values of K\")\n",
    "plt.ylabel(\"Sum of squared distances\")\n",
    "# plt.savefig(path, bbox_inches=\"tight\")\n",
    "plt.show()"
   ]
  },
  {
   "cell_type": "markdown",
   "metadata": {},
   "source": [
    "# DBSCAN"
   ]
  },
  {
   "cell_type": "code",
   "execution_count": null,
   "metadata": {},
   "outputs": [],
   "source": [
    "from sklearn.neighbors import NearestNeighbors\n",
    "from matplotlib import pyplot as plt\n",
    "\n",
    "data = d_215_2\n",
    "neighbors = NearestNeighbors(n_neighbors=20)\n",
    "neighbors_fit = neighbors.fit(data)\n",
    "distances, indices = neighbors_fit.kneighbors(data)\n",
    "\n",
    "distances = np.sort(distances, axis=0)\n",
    "distances = distances[:, 1]\n",
    "plt.plot(distances)\n",
    "plt.scatter(clusters, Sum_of_squared_distances)\n",
    "plt.xlim(67000, 69000)\n",
    "plt.ylim(0, 2)\n",
    "# plt.savefig(f\"../../figures/knn_DBSCAN_215_2.png\", bbox_inches=\"tight\")\n",
    "plt.show()"
   ]
  }
 ],
 "metadata": {
  "kernelspec": {
   "display_name": "nocluV",
   "language": "python",
   "name": "python3"
  },
  "language_info": {
   "codemirror_mode": {
    "name": "ipython",
    "version": 3
   },
   "file_extension": ".py",
   "mimetype": "text/x-python",
   "name": "python",
   "nbconvert_exporter": "python",
   "pygments_lexer": "ipython3",
   "version": "3.8.10"
  }
 },
 "nbformat": 4,
 "nbformat_minor": 2
}
