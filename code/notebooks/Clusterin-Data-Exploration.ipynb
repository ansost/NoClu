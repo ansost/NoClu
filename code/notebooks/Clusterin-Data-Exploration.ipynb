{
 "cells": [
  {
   "cell_type": "code",
   "execution_count": null,
   "id": "aa8a7bc9-a9a9-4896-9857-e74fd4be0fa4",
   "metadata": {},
   "outputs": [],
   "source": [
    "#in this table a form at index i,j is not syncretic if matrix_of_syncr[i][j]==2**j\n",
    "list_of_all_forms = np.loadtxt(\"../data/list_of_noun_forms_full.csv\", dtype=object, delimiter=',')\n",
    "matrix_of_syncr = np.loadtxt(\"../data/matrix_of_syncr.csv\", dtype=float, delimiter=',').astype(int)\n",
    "list_forms = list_of_all_forms[:,4:] #pure forms without lemma, gender, frequency, animacy"
   ]
  },
  {
   "cell_type": "code",
   "execution_count": null,
   "id": "345b421a-d0e7-43ae-afdd-465bd31a729f",
   "metadata": {},
   "outputs": [],
   "source": [
    "#this is the sequence in which forms are written in the table\n",
    "forms_full = [{'nomn'},{'gent'},{'datv'},{'accs'},{'ablt'},{'loct'},{'gen2'},\n",
    "              {'plur', 'nomn'},{'plur', 'gent'},{'plur', 'datv'},{'plur', 'accs'},{'plur', 'ablt'},{'plur', 'loct'},{'plur', 'gen2'}]\n",
    "tags = ['gender','animacy']"
   ]
  },
  {
   "cell_type": "code",
   "execution_count": null,
   "id": "b34f1c2b-50a0-4a8c-852a-dd0dc781212b",
   "metadata": {},
   "outputs": [],
   "source": [
    "#list_forms # forms without lemma, gender, frequency, animacy\n",
    "type(list_forms)\n",
    "# word, Embedding?, gender, animacy, forms_full "
   ]
  },
  {
   "cell_type": "code",
   "execution_count": null,
   "id": "3462036d-7710-4432-a185-213f9aa1427b",
   "metadata": {},
   "outputs": [],
   "source": []
  }
 ],
 "metadata": {
  "kernelspec": {
   "display_name": "Python 3 (ipykernel)",
   "language": "python",
   "name": "python3"
  },
  "language_info": {
   "codemirror_mode": {
    "name": "ipython",
    "version": 3
   },
   "file_extension": ".py",
   "mimetype": "text/x-python",
   "name": "python",
   "nbconvert_exporter": "python",
   "pygments_lexer": "ipython3",
   "version": "3.11.2"
  }
 },
 "nbformat": 4,
 "nbformat_minor": 5
}
